{
 "cells": [
  {
   "cell_type": "code",
   "execution_count": null,
   "metadata": {},
   "outputs": [],
   "source": [
    "# regular experession support\n",
    "import re\n",
    "# platform independent file system path handling\n",
    "from pathlib import Path\n",
    "# pandas\n",
    "import pandas as pd\n",
    "\n",
    "# string identifier to connect chunks to a biopsy [jrwXXX] and section scan [s] #\n",
    "sample = \"jrw006_s1\"\n",
    "# path to directory of csv files output by point cloud generating script #\n",
    "img_output = Path(\"/mnt/d/tda_workflow/_post_pointcloud_demo/alpha_raw+SECT__output/topology_results\")\n",
    "# list of all paths+names of csv files in this directory #\n",
    "file_list = list(img_output.glob(\"*.csv\"))\n",
    "\n",
    "##\n",
    "metadata_log = {}  # Dictionary to store metadata\n",
    "master_df = pd.DataFrame() # Dataframe to store raw_ec data\n",
    "\n",
    "for file_path in file_list:\n",
    "    df = pd.read_csv(file_path)\n",
    "    file_stem = file_path.stem\n",
    "    # pull chunk boundaries from file stem\n",
    "    z_coord = re.search(r\"Z(\\d+-\\d+)\", file_stem)\n",
    "    y_coord = re.search(r\"Y(\\d+-\\d+)\", file_stem)\n",
    "    x_coord = re.search(r\"X(\\d+-\\d+)\", file_stem)\n",
    "\n",
    "    if z_coord and y_coord and x_coord:\n",
    "        z_range = z_coord.group(1)\n",
    "        y_range = y_coord.group(1)\n",
    "        x_range = x_coord.group(1)\n",
    "        chunk_id = f\"Z{z_range}_Y{y_range}_X{x_range}\"\n",
    "\n",
    "        # append chunk info to metadataw dictionary\n",
    "        metadata_log[chunk_id] = {\n",
    "            \"sample\": sample,\n",
    "            \"z_range\": z_range,\n",
    "            \"y_range\": y_range,\n",
    "            \"x_range\": x_range,\n",
    "            \"file_path\": str(file_path), #store file path as string.\n",
    "        }\n",
    "\n",
    "        ### extract the column of interest (raw ec in this case) for the master df for FDA ###\n",
    "        master_df[chunk_id] = df[\"Raw EC (3D)\"]\n",
    "\n",
    "    else:\n",
    "        print(f\"Skipping {file_path.name} due to missing Z, Y, or X range.\")\n",
    "\n",
    "master_df['Filtration Value'] = df['Filtration Value'] #add filtration value column.\n",
    "print(master_df.head())\n",
    "print(metadata_log)"
   ]
  },
  {
   "cell_type": "code",
   "execution_count": null,
   "metadata": {},
   "outputs": [],
   "source": []
  }
 ],
 "metadata": {
  "language_info": {
   "name": "python"
  }
 },
 "nbformat": 4,
 "nbformat_minor": 2
}
